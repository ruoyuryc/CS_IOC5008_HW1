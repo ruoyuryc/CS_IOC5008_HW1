{
 "cells": [
  {
   "cell_type": "markdown",
   "metadata": {},
   "source": [
    "import library"
   ]
  },
  {
   "cell_type": "code",
   "execution_count": null,
   "metadata": {},
   "outputs": [],
   "source": [
    "import tensorflow as tf\n",
    "import matplotlib.pyplot as plt\n",
    "import cv2\n",
    "import matplotlib.pylab as plt\n",
    "import numpy as np\n",
    "import pandas as pd\n",
    "from keras import models, layers, optimizers\n",
    "from keras import applications\n",
    "from keras.preprocessing.image import ImageDataGenerator\n",
    "import os\n",
    "import gc"
   ]
  },
  {
   "cell_type": "markdown",
   "metadata": {},
   "source": [
    "read training image"
   ]
  },
  {
   "cell_type": "code",
   "execution_count": null,
   "metadata": {},
   "outputs": [],
   "source": [
    "Images = [] \n",
    "Labels = []  # 0 for Building , 1 for forest, 2 for glacier, 3 for mountain, 4 for Sea , 5 for Street \n",
    "label = 0 \n",
    "\n",
    "directory = '/kaggle/input/cs-ioc5008-hw1/dataset/dataset/train/'\n",
    "\n",
    "for labels in os.listdir(directory): #Main Directory where each class label is present as folder name. \n",
    "    if labels == 'tallbuilding': #Folder contain Glacier Images get the '2' class label. \n",
    "        label = 0 \n",
    "    elif labels == 'suburb': \n",
    "        label = 1 \n",
    "    elif labels == 'opencountry': \n",
    "        label = 2 \n",
    "    elif labels == 'forest': \n",
    "        label = 3 \n",
    "    elif labels == 'street': \n",
    "        label = 4 \n",
    "    elif labels == 'mountain': \n",
    "        label = 5\n",
    "    elif labels == 'office': \n",
    "        label = 6\n",
    "    elif labels == 'livingroom': \n",
    "        label = 7\n",
    "    elif labels == 'kitchen': \n",
    "        label = 8\n",
    "    elif labels == 'insidecity': \n",
    "        label = 9\n",
    "    elif labels == 'highway': \n",
    "        label = 10\n",
    "    elif labels == 'coast': \n",
    "        label = 11\n",
    "    elif labels == 'bedroom': \n",
    "        label = 12\n",
    "\n",
    "\n",
    "    for image_file in os.listdir(directory+labels): #Extracting the file name of the image from Class Label folder \n",
    "        image = cv2.imread(directory+labels+r'/'+image_file) #Reading the image (OpenCV) \n",
    "        image = cv2.resize(image,(299,299),interpolation=cv2.INTER_CUBIC) #Resize the image, Some images are different sizes. (Resizing is very Important) \n",
    "        Images.append(image) \n",
    "        Labels.append(label) \n",
    " \n",
    "\n",
    "def get_classlabel(class_code): \n",
    "    labels = {0:'tallbuilding', 1:'suburb', 2:'opencountry', 3:'forest', 4:'street', 5:'mountain',6:'office',7:'livingroom', 8:'kitchen', 9:'insidecity',10:'highway',11:'coast',12:'bedroom'}\n",
    " \n",
    "    return labels[class_code] \n",
    "\n",
    "Images = np.array(Images)\n",
    "Images = Images.astype('float32')\n",
    "Images.shape"
   ]
  },
  {
   "cell_type": "markdown",
   "metadata": {},
   "source": [
    "convert array of labeled data(from 0 to nb_classes-1) to one-hot vector"
   ]
  },
  {
   "cell_type": "code",
   "execution_count": null,
   "metadata": {},
   "outputs": [],
   "source": [
    "from keras.utils import to_categorical\n",
    "from keras import utils as np_utils\n",
    "Labels = np.array(Labels)\n",
    "Labels = np_utils.to_categorical(Labels)\n",
    "Labels.shape"
   ]
  },
  {
   "cell_type": "markdown",
   "metadata": {},
   "source": [
    "delete no longer used data to release memory"
   ]
  },
  {
   "cell_type": "code",
   "execution_count": null,
   "metadata": {},
   "outputs": [],
   "source": [
    "del Images\n",
    "del Labels\n",
    "gc.collect()"
   ]
  },
  {
   "cell_type": "code",
   "execution_count": null,
   "metadata": {},
   "outputs": [],
   "source": []
  }
 ],
 "metadata": {
  "kernelspec": {
   "display_name": "Python 3",
   "language": "python",
   "name": "python3"
  },
  "language_info": {
   "codemirror_mode": {
    "name": "ipython",
    "version": 3
   },
   "file_extension": ".py",
   "mimetype": "text/x-python",
   "name": "python",
   "nbconvert_exporter": "python",
   "pygments_lexer": "ipython3",
   "version": "3.7.1"
  }
 },
 "nbformat": 4,
 "nbformat_minor": 2
}
